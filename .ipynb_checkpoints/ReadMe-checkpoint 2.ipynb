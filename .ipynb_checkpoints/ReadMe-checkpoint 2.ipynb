{
 "cells": [
  {
   "cell_type": "markdown",
   "metadata": {},
   "source": [
    "# Project 1: Recommender system \n",
    "\n",
    "This is the first of two mini projects in this class. Each mini project accounts for 10% fo your final grade. The project requires implementing and evaluating various methods for a joke recommender system. The project due date is Sunday, Oct 20, 2019 (before midnight)."
   ]
  },
  {
   "cell_type": "markdown",
   "metadata": {},
   "source": [
    "### Project files\n",
    "First, you need to download the Project1.zip from the D2L class website. After unpacking, you should find a folder named skeleton, which contains the following files:\n",
    "* main.py\n",
    "* recommender.py\n",
    "* parameter_parser.py\n",
    "* utils.py\n",
    "* data_loader.py\n",
    "\n",
    "There should also be a directory named *data* that contains the  jester.csv file. Your task is to implement some of the Python functions given by the skeleton code in data_loader.py, recommender.py, and utils.py. More details are given below. \n",
    "\n",
    "### Data:\n",
    "The dataset in the *data* folder is a subset of the Jester Online dataset for joke recommendation. The original data contains 4.1 Million continuous-valued ratings (between -10.00 to +10.00) of 100 jokes from 73,421 users. The data was collected between April 1999 - May 2003. You can access to the original dataset from following link: http://goldberg.berkeley.edu/jester-data/. \n",
    " Each row in the jester.csv file corresponds to ratings of a user. There are 100 columns(comma seperated) in this file each column corresponds to a joke and Ratings are real values ranging from -10.00 to +10.00.\n",
    "\n",
    "### How to run?\n",
    "The skeleton program is written in python 3.7. Inorder to be able to run the skeleton you need to install following packages using pip or conda command:\n",
    "- tqdm\n",
    "- numpy \n",
    "- texttable\n",
    "- argparse\n",
    "\n",
    "If everything is installed correctly you should be able to run the following command without generating any error:\n",
    "```shell-script\n",
    "$ python main.py --help\n",
    "usage: main.py [-h] [--input-file [INPUT_FILE]] [--tau TAU] [--delta DELTA] [--epsilon EPSILON] [--lambda-1 LAMBDA_1]\n",
    "               [--lambda-2 LAMBDA_2] [--max_iters MAX_ITERS] [--dim DIM] [--test-size TEST_SIZE] [--file FILE]\n",
    "\n",
    "Run recommender system algorithms.\n",
    "\n",
    "optional arguments:\n",
    "  -h, --help            show this help message and exit\n",
    "  --input-file [INPUT_FILE]\n",
    "                        path to input file.\n",
    "  --tau TAU             parameter tau of the SVT matrix completion algorithm.\n",
    "  --delta DELTA         step size hyper-parameter for the SVT matrix completion algorithm.\n",
    "  --epsilon EPSILON     the stopping criteria parameter for SVT matrix completion algorithm. Default is 1e-2\n",
    "  --lambda-1 LAMBDA_1   hyperparameters for sparsity regularization for U in MF algorithm. Default is 1e-2\n",
    "  --lambda-2 LAMBDA_2   hyperparameters for sparsity regularization for V in MF algorithm. Default is 1e-2\n",
    "  --max_iters MAX_ITERS\n",
    "                        max_iters is maximum iteration count for the MC and MF algorithm. Defualt is 1000.\n",
    "  --dim DIM             Number of columns for U and V in MF algorithm. Defualt is 10.\n",
    "  --test-size TEST_SIZE\n",
    "                        the proportion of the dataset to include in the test split. It should be between 0 and 1. Default is 0.5\n",
    "  --file FILE\n",
    "```"
   ]
  },
  {
   "cell_type": "markdown",
   "metadata": {},
   "source": [
    "## Tasks\n",
    "### 1. Data Loading and Creation"
   ]
  },
  {
   "cell_type": "markdown",
   "metadata": {},
   "source": [
    "The data_loader.py file contains the template program for loading the dataset. The file includes a function named *load_data()*, which reads the input data from a file and generates the appropriate training and test sets. You need to modify the load_data() function to complete this task.\n",
    "\n",
    "\n",
    "#### load_data():\n",
    "Input:\n",
    "- input_file: path to input file.\n",
    "- test_size: a floating point number between 0.0 and 1.0, which represents the proportion of the input data to be used as the test set.\n",
    "- random_seed:  an integer seed to be used by the random number generator. \n",
    "\n",
    "Output:\n",
    "- Ratings: A numpy array of user ratings of size n(number of users) by m(number of items). Each element(u,b) is the rating of user u for the item b. \n",
    "- train_mask:  A binary 0/1 numpy array matrix of size n by m. Element(u,b) is set to 1 if the user-item pair (u,b) belongs to the training set; otherwise, it is set to 0.\n",
    "- test_mask: A binary 0/1 numpy array matrix of size n by m. Element(u,b) is set to 1 if the user-item pair (u,b) belongs to the test set; otherwise, it is set to 0."
   ]
  },
  {
   "cell_type": "markdown",
   "metadata": {},
   "source": [
    "### 2. Recommendation (recommender.py)"
   ]
  },
  {
   "cell_type": "markdown",
   "metadata": {},
   "source": [
    "This file includes the base recommender class and the skeleton for MI (mean imputation), MC (Matrix completion), and MF( matrix factorization) derived classes. In this file you need to implement fit() and predict() functions for each of the derived classes. All the required  hyper-parameter are defined in the __init__() so you probably do not need to define\n",
    "any extra hyper-parameter. \n",
    "\n",
    "#### fit():\n",
    "The goal of the fit() function is to learn model parameters. The function takes the training data as input and learns the model parameters. This function does not return any value.\n",
    "\n",
    "Input:\n",
    "* self: the class itself, which includes hyper-parameters of the model\n",
    "* masks: A binary 0/1 numpy array matrix of size n by m for training set.\n",
    "\n",
    "Output:\n",
    "* This function does not return any value. \n",
    "\n",
    "##### Matrix Completion fit() function:\n",
    "* for implementation details and algorithm, follow the pseudocode given in Section 5 of\n",
    "https://epubs.siam.org/doi/pdf/10.1137/080738970\n",
    "* You can ignore steps 4-8 of the algoirthm 1(above link) in your implementation. \n",
    "\n",
    "##### Matrix Factorization fit() function:\n",
    "\n",
    "Matrix Factorization fit() function use alternating least-square(ALS) algoirthm to solve follwoing objective function:\n",
    " $$min_{U,V} ||(R - UV^{\\top})\\odot M||^2_F + \\lambda_1||U||^2_F + \\lambda_2 ||V||^2_F $$\n",
    "\n",
    "The main steps of ALS are as follow \n",
    "\n",
    "- Randomly intialize U and V\n",
    "- Repeat until convergence:\n",
    "    - Fix V and update U. The update formula for U can be derived by seting gradient of the above objective function with respect to U equal to 0 and solving for U.\n",
    "    - Fix U and update V. The update formula for U can be derived by seting gradient of the above objective function with respect to V equal to 0 and solving for V.\n",
    "\n",
    "\n",
    "#### predict():\n",
    "Input:\n",
    "* self: the class itself, which includes the model parameters learned by the fit() function.\n",
    "* masks: A binary 0/1 numpy array matrix of size n by m for test set.\n",
    "\n",
    "Output:\n",
    "* This function returns the predicted ratings for the test set. The output is an n by m matrix; all elements that do not belong to the test set (mask = 0) are assigned the value 0. \n",
    "\n"
   ]
  },
  {
   "cell_type": "markdown",
   "metadata": {},
   "source": [
    "### 3.Evaluation (utils.py)\n",
    "\n",
    "The final task is to implement the RMSE() function in utils.py to compute the root mean square error of the predicted ratings for the test set. Details of the function are given below.\n",
    "\n",
    "RMSE():\n",
    "\n",
    "Input:\n",
    "- ratings:  numpy array matrix of actual user ratings.\n",
    "- ratings_hat: numpy array matrix of predicted user ratings.\n",
    "- test_mask:  0/1 test mask matrix. \n",
    "\n",
    "Output:\n",
    "- This function returns the root mean square error (rmse) of the predictions. Note that the rmse should be computed using only those entries whose test_mask is equal to 1.\n"
   ]
  },
  {
   "cell_type": "markdown",
   "metadata": {},
   "source": [
    "## Implementation policies\n",
    "\n",
    "* The project must be done individually, without collaboration with any other students.\n",
    "* You must implement your methods in Python 3.7 using the provided template program.\n",
    "* You are prohibited from using any Python libraries for recommender systems (e.g., Python Surprise package) to do this project. \n",
    "* You’re expected to complete the project using standard functions in Python and NumPy built in methods such as the NumPy linear algebra functions and Numpy’s random number routines. \n",
    "* Please check with the instructor/TA first if you want to use other packages besides those provided by NumPy. "
   ]
  },
  {
   "cell_type": "markdown",
   "metadata": {},
   "source": [
    "## Project deliverables\n",
    "You should turn in following files:\n",
    "* recommender.py\n",
    "* data_loader.py\n",
    "* utils.py\n",
    "* results.txt: Run the program with the default hyper-parameter settings and report the  results in this file."
   ]
  }
 ],
 "metadata": {
  "kernelspec": {
   "display_name": "Python 3",
   "language": "python",
   "name": "python3"
  },
  "language_info": {
   "codemirror_mode": {
    "name": "ipython",
    "version": 3
   },
   "file_extension": ".py",
   "mimetype": "text/x-python",
   "name": "python",
   "nbconvert_exporter": "python",
   "pygments_lexer": "ipython3",
   "version": "3.7.3"
  }
 },
 "nbformat": 4,
 "nbformat_minor": 2
}
